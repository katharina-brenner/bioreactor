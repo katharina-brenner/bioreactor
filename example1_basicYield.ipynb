{
 "cells": [
  {
   "cell_type": "markdown",
   "id": "d727693c-1a28-4107-ab13-871a6d50b8ce",
   "metadata": {},
   "source": [
    "\n",
    "Modules"
   ]
  },
  {
   "cell_type": "code",
   "execution_count": 2,
   "id": "9ee2ed37-e6d6-4b58-990f-01645af65828",
   "metadata": {},
   "outputs": [],
   "source": [
    "import biota.steadyfluxes as steady\n",
    "import matplotlib.pyplot as plt"
   ]
  },
  {
   "cell_type": "markdown",
   "id": "70e0667f-e6cf-4901-8fd2-b37d2dcdff03",
   "metadata": {},
   "source": [
    "---------------------------------------------"
   ]
  },
  {
   "cell_type": "markdown",
   "id": "f0d0bec4-f996-46ed-ae23-5c64066fa9b4",
   "metadata": {},
   "source": [
    "Specify bioreactor parameters and construct bioreactor class instance from them.\n",
    "Values are derived from the 20,000 litre stirred aerated tank example case from Humbird https://doi.org/10.31224/osf.io/795su . Fed batch operation is considered here, no perfusion."
   ]
  },
  {
   "cell_type": "code",
   "execution_count": 3,
   "id": "c0560668-2d1c-456c-b0de-cb0f0ee28df7",
   "metadata": {},
   "outputs": [],
   "source": [
    "workingVolume = 20000\n",
    "tankDiameter = 2.34\n",
    "impellerDiameter = tankDiameter/3\n",
    "rpm = 42.3\n",
    "backPressure = 1.3\n",
    "superficialVel = 0.004\n",
    "moleFracO2 = 0.21\n",
    "moleFracCO2 = 0.03\n",
    "initVol = 0.76 * workingVolume\n",
    "initCells = 4e6\n",
    "temp = 310\n",
    "powerNumber = 5\n",
    "mediumDensity = 1000\n",
    "mediumViscosity = 9e-4\n",
    "vesselVolDay = 0.0\n",
    "perfLactateRate = 5.0\n",
    "perfAmmrate = 5.0\n",
    "\n",
    "STR_Humbird_20kl = steady.Bioreactor(wv=workingVolume,t=tankDiameter,d=impellerDiameter,n=rpm,p_back=backPressure,u_s=superficialVel,mf_O2_gas=moleFracO2,mf_CO2_gas=moleFracCO2,v0=initVol,ns=initCells,Temp=temp,\n",
    "                                     Np=powerNumber,rho=mediumDensity,mu=mediumViscosity,vvd=vesselVolDay,perfAMM=perfAmmrate,perfLAC=perfLactateRate)\n"
   ]
  },
  {
   "cell_type": "markdown",
   "id": "49abc2c4-7363-4452-a2d9-5d817c1e750f",
   "metadata": {},
   "source": [
    "-----------------------------------------"
   ]
  },
  {
   "cell_type": "markdown",
   "id": "a2df1758-722e-441e-9d2a-f29db0980e09",
   "metadata": {},
   "source": [
    "Specify cell parameters and create instance of cell class from them. Values are derived from the un-enhanced CHO model of Humbird https://doi.org/10.31224/osf.io/795su for the two doublings production scenario."
   ]
  },
  {
   "cell_type": "code",
   "execution_count": 4,
   "id": "6f5dbc94-2ade-4e66-87c3-330f6bd0409c",
   "metadata": {},
   "outputs": [],
   "source": [
    "growthRate = 0.029\n",
    "\n",
    "glutamineUptakeRate = 0\n",
    "glucoseUptakeRate = 0\n",
    "oxygenUptakeRate = 0.45\n",
    "uptakeList = [glutamineUptakeRate, glucoseUptakeRate, oxygenUptakeRate]\n",
    "\n",
    "carbonDioxideProdRate = 0.57\n",
    "ammoniaProductionRate = 0.092\n",
    "lactateProductionRate = 0.624\n",
    "prodList = [carbonDioxideProdRate, ammoniaProductionRate, lactateProductionRate]\n",
    "\n",
    "massDensity = 1030\n",
    "cellRadius = 18e-6\n",
    "wetmass = 3000\n",
    "dryMassFraction = 0.3\n",
    "\n",
    "ammoniaLimit = 5\n",
    "lactateLimit = 50\n",
    "CO2Limit = 100\n",
    "turbLengthLimit = 20e-6\n",
    "limitsList = [ammoniaLimit, lactateLimit, CO2Limit, turbLengthLimit]\n",
    "\n",
    "\n",
    "cell_Humbird = steady.Cell(mu=growthRate,uptakes=uptakeList,prod=prodList,rho=massDensity,rad=cellRadius,wetmass=wetmass,dmf=dryMassFraction,limits=limitsList)"
   ]
  },
  {
   "cell_type": "markdown",
   "id": "20597f1c-1c07-4245-adfd-beea49260022",
   "metadata": {},
   "source": [
    "-------------------------------------------------"
   ]
  },
  {
   "cell_type": "markdown",
   "id": "2ade997f-99fe-4932-bb52-bf9d901c8875",
   "metadata": {},
   "source": [
    "Execute production performance function "
   ]
  },
  {
   "cell_type": "code",
   "execution_count": 5,
   "id": "b8553185-64aa-4bc4-9031-09613443d7c5",
   "metadata": {},
   "outputs": [],
   "source": [
    "(a,b) = steady.yieldModel(STR_Humbird_20kl,cell_Humbird,144,klaInO2=False,tauMIn=False,epsIn=False)"
   ]
  },
  {
   "cell_type": "markdown",
   "id": "ce4a16aa-ccc4-498a-a97c-3065c6293f96",
   "metadata": {},
   "source": [
    "-------------------------------------------------------------------"
   ]
  },
  {
   "cell_type": "markdown",
   "id": "f9013e9d-2516-4da0-81a2-2bdc3d1febb6",
   "metadata": {},
   "source": [
    "Dataframe returned by production performance function"
   ]
  },
  {
   "cell_type": "code",
   "execution_count": 6,
   "id": "d657011b-92ed-4e3b-a4d1-257308632267",
   "metadata": {},
   "outputs": [
    {
     "data": {
      "text/html": [
       "<div>\n",
       "<style scoped>\n",
       "    .dataframe tbody tr th:only-of-type {\n",
       "        vertical-align: middle;\n",
       "    }\n",
       "\n",
       "    .dataframe tbody tr th {\n",
       "        vertical-align: top;\n",
       "    }\n",
       "\n",
       "    .dataframe thead th {\n",
       "        text-align: right;\n",
       "    }\n",
       "</style>\n",
       "<table border=\"1\" class=\"dataframe\">\n",
       "  <thead>\n",
       "    <tr style=\"text-align: right;\">\n",
       "      <th></th>\n",
       "      <th>Time [hr]</th>\n",
       "      <th>Mixing Time [s]</th>\n",
       "      <th>Required/Theoretical kLa [-]</th>\n",
       "      <th>Required kLa * Mixing Time [-]</th>\n",
       "      <th>pCO2 [mbar]</th>\n",
       "      <th>Ammonia [mmol/L]</th>\n",
       "      <th>Lactate [mmol/L]</th>\n",
       "      <th>Superficial Gas Top [m/s]</th>\n",
       "      <th>Cell Density [wet g/L]</th>\n",
       "    </tr>\n",
       "  </thead>\n",
       "  <tbody>\n",
       "    <tr>\n",
       "      <th>0</th>\n",
       "      <td>0.000000</td>\n",
       "      <td>105.528229</td>\n",
       "      <td>0.186109</td>\n",
       "      <td>0.144490</td>\n",
       "      <td>9.758607</td>\n",
       "      <td>0.000000</td>\n",
       "      <td>0.000000</td>\n",
       "      <td>0.005321</td>\n",
       "      <td>12.000000</td>\n",
       "    </tr>\n",
       "    <tr>\n",
       "      <th>1</th>\n",
       "      <td>0.014401</td>\n",
       "      <td>105.528229</td>\n",
       "      <td>0.186189</td>\n",
       "      <td>0.144553</td>\n",
       "      <td>9.762676</td>\n",
       "      <td>0.004771</td>\n",
       "      <td>0.032358</td>\n",
       "      <td>0.005321</td>\n",
       "      <td>12.005013</td>\n",
       "    </tr>\n",
       "    <tr>\n",
       "      <th>2</th>\n",
       "      <td>0.028803</td>\n",
       "      <td>105.528229</td>\n",
       "      <td>0.186269</td>\n",
       "      <td>0.144615</td>\n",
       "      <td>9.766748</td>\n",
       "      <td>0.009543</td>\n",
       "      <td>0.064730</td>\n",
       "      <td>0.005321</td>\n",
       "      <td>12.010028</td>\n",
       "    </tr>\n",
       "    <tr>\n",
       "      <th>3</th>\n",
       "      <td>0.043204</td>\n",
       "      <td>105.528229</td>\n",
       "      <td>0.186349</td>\n",
       "      <td>0.144677</td>\n",
       "      <td>9.770821</td>\n",
       "      <td>0.014318</td>\n",
       "      <td>0.097115</td>\n",
       "      <td>0.005321</td>\n",
       "      <td>12.015045</td>\n",
       "    </tr>\n",
       "    <tr>\n",
       "      <th>4</th>\n",
       "      <td>0.057606</td>\n",
       "      <td>105.528229</td>\n",
       "      <td>0.186429</td>\n",
       "      <td>0.144739</td>\n",
       "      <td>9.774895</td>\n",
       "      <td>0.019095</td>\n",
       "      <td>0.129514</td>\n",
       "      <td>0.005321</td>\n",
       "      <td>12.020064</td>\n",
       "    </tr>\n",
       "    <tr>\n",
       "      <th>...</th>\n",
       "      <td>...</td>\n",
       "      <td>...</td>\n",
       "      <td>...</td>\n",
       "      <td>...</td>\n",
       "      <td>...</td>\n",
       "      <td>...</td>\n",
       "      <td>...</td>\n",
       "      <td>...</td>\n",
       "      <td>...</td>\n",
       "    </tr>\n",
       "    <tr>\n",
       "      <th>7978</th>\n",
       "      <td>114.894689</td>\n",
       "      <td>105.528229</td>\n",
       "      <td>41.940538</td>\n",
       "      <td>33.225022</td>\n",
       "      <td>261.476633</td>\n",
       "      <td>308.275963</td>\n",
       "      <td>2090.915230</td>\n",
       "      <td>0.005559</td>\n",
       "      <td>335.913150</td>\n",
       "    </tr>\n",
       "    <tr>\n",
       "      <th>7979</th>\n",
       "      <td>114.909091</td>\n",
       "      <td>105.528229</td>\n",
       "      <td>43.473076</td>\n",
       "      <td>34.439386</td>\n",
       "      <td>261.581009</td>\n",
       "      <td>308.409510</td>\n",
       "      <td>2091.821024</td>\n",
       "      <td>0.005559</td>\n",
       "      <td>336.053471</td>\n",
       "    </tr>\n",
       "    <tr>\n",
       "      <th>7980</th>\n",
       "      <td>114.923492</td>\n",
       "      <td>105.528229</td>\n",
       "      <td>45.485687</td>\n",
       "      <td>36.034088</td>\n",
       "      <td>261.685424</td>\n",
       "      <td>308.543112</td>\n",
       "      <td>2092.727197</td>\n",
       "      <td>0.005559</td>\n",
       "      <td>336.193850</td>\n",
       "    </tr>\n",
       "    <tr>\n",
       "      <th>7981</th>\n",
       "      <td>114.937894</td>\n",
       "      <td>105.528229</td>\n",
       "      <td>48.427303</td>\n",
       "      <td>38.364789</td>\n",
       "      <td>261.789879</td>\n",
       "      <td>308.676771</td>\n",
       "      <td>2093.633748</td>\n",
       "      <td>0.005559</td>\n",
       "      <td>336.334288</td>\n",
       "    </tr>\n",
       "    <tr>\n",
       "      <th>7982</th>\n",
       "      <td>114.952295</td>\n",
       "      <td>105.528229</td>\n",
       "      <td>54.006048</td>\n",
       "      <td>42.784718</td>\n",
       "      <td>261.894374</td>\n",
       "      <td>308.810484</td>\n",
       "      <td>2094.540677</td>\n",
       "      <td>0.005559</td>\n",
       "      <td>336.474784</td>\n",
       "    </tr>\n",
       "  </tbody>\n",
       "</table>\n",
       "<p>7983 rows × 9 columns</p>\n",
       "</div>"
      ],
      "text/plain": [
       "       Time [hr]  Mixing Time [s]  Required/Theoretical kLa [-]  \\\n",
       "0       0.000000       105.528229                      0.186109   \n",
       "1       0.014401       105.528229                      0.186189   \n",
       "2       0.028803       105.528229                      0.186269   \n",
       "3       0.043204       105.528229                      0.186349   \n",
       "4       0.057606       105.528229                      0.186429   \n",
       "...          ...              ...                           ...   \n",
       "7978  114.894689       105.528229                     41.940538   \n",
       "7979  114.909091       105.528229                     43.473076   \n",
       "7980  114.923492       105.528229                     45.485687   \n",
       "7981  114.937894       105.528229                     48.427303   \n",
       "7982  114.952295       105.528229                     54.006048   \n",
       "\n",
       "      Required kLa * Mixing Time [-]  pCO2 [mbar]  Ammonia [mmol/L]  \\\n",
       "0                           0.144490     9.758607          0.000000   \n",
       "1                           0.144553     9.762676          0.004771   \n",
       "2                           0.144615     9.766748          0.009543   \n",
       "3                           0.144677     9.770821          0.014318   \n",
       "4                           0.144739     9.774895          0.019095   \n",
       "...                              ...          ...               ...   \n",
       "7978                       33.225022   261.476633        308.275963   \n",
       "7979                       34.439386   261.581009        308.409510   \n",
       "7980                       36.034088   261.685424        308.543112   \n",
       "7981                       38.364789   261.789879        308.676771   \n",
       "7982                       42.784718   261.894374        308.810484   \n",
       "\n",
       "      Lactate [mmol/L]  Superficial Gas Top [m/s]  Cell Density [wet g/L]  \n",
       "0             0.000000                   0.005321               12.000000  \n",
       "1             0.032358                   0.005321               12.005013  \n",
       "2             0.064730                   0.005321               12.010028  \n",
       "3             0.097115                   0.005321               12.015045  \n",
       "4             0.129514                   0.005321               12.020064  \n",
       "...                ...                        ...                     ...  \n",
       "7978       2090.915230                   0.005559              335.913150  \n",
       "7979       2091.821024                   0.005559              336.053471  \n",
       "7980       2092.727197                   0.005559              336.193850  \n",
       "7981       2093.633748                   0.005559              336.334288  \n",
       "7982       2094.540677                   0.005559              336.474784  \n",
       "\n",
       "[7983 rows x 9 columns]"
      ]
     },
     "execution_count": 6,
     "metadata": {},
     "output_type": "execute_result"
    }
   ],
   "source": [
    "a"
   ]
  },
  {
   "cell_type": "markdown",
   "id": "b4a8bf53-c9bb-49e1-9814-9ca3f545f298",
   "metadata": {},
   "source": [
    "-------------------------------------------------"
   ]
  },
  {
   "cell_type": "markdown",
   "id": "d59385dd-64fb-49fa-8d4e-649dbabe25df",
   "metadata": {},
   "source": [
    "Look at constraints individually to see the limited yield for each of them. Output is in \\[wet g/L\\]."
   ]
  },
  {
   "cell_type": "code",
   "execution_count": 7,
   "id": "791679e1-d9e5-413c-af6b-358140be7610",
   "metadata": {},
   "outputs": [
    {
     "data": {
      "text/plain": [
       "{'CO2': 124.89324158431478,\n",
       " 'O2': 57.43452616826011,\n",
       " 'Mixing': 71.03873428927064,\n",
       " 'Superficial Velocity Top': 336.4747844287421,\n",
       " 'Stress': 336.4747844287421,\n",
       " 'Ammonia': 17.257640701419593,\n",
       " 'Lactate': 19.749995716291345}"
      ]
     },
     "execution_count": 7,
     "metadata": {},
     "output_type": "execute_result"
    }
   ],
   "source": [
    "b"
   ]
  },
  {
   "cell_type": "markdown",
   "id": "7b2c5d9b-bfe7-4bda-b442-27c6908daaab",
   "metadata": {},
   "source": [
    "--------------------------------------------------------"
   ]
  },
  {
   "cell_type": "markdown",
   "id": "f5ffc3fc-8b59-4349-bbb6-2cc7670378eb",
   "metadata": {},
   "source": [
    "Plot key constraints against time, in the same format as Figure 2.7 (page 27) of https://doi.org/10.31224/osf.io/795su <br>\n",
    "Code modified from https://matplotlib.org/3.4.3/gallery/ticks_and_spines/multiple_yaxis_with_spines.html"
   ]
  },
  {
   "cell_type": "code",
   "execution_count": 8,
   "id": "6fb87d72-963d-4db9-8740-721d84d471c3",
   "metadata": {},
   "outputs": [
    {
     "data": {
      "image/png": "[encoded data removed]",
      "text/plain": [
       "<Figure size 720x288 with 4 Axes>"
      ]
     },
     "metadata": {
      "needs_background": "light"
     },
     "output_type": "display_data"
    }
   ],
   "source": [
    "fig, ax = plt.subplots(figsize=(10,4))\n",
    "fig.subplots_adjust(right=0.75)\n",
    "\n",
    "twin1 = ax.twinx()\n",
    "twin2 = ax.twinx()\n",
    "twin3 = ax.twinx()\n",
    "\n",
    "\n",
    "# Offset the right spine of twin2.  The ticks and label have already been\n",
    "# placed on the right by twinx above.\n",
    "twin2.spines.right.set_position((\"axes\", 1.1))\n",
    "twin3.spines.right.set_position((\"axes\", 1.2))\n",
    "\n",
    "\n",
    "p1, = ax.plot(a['Time [hr]'],a['Cell Density [wet g/L]'], \"black\")\n",
    "p2, = twin1.plot(a['Time [hr]'],a['Ammonia [mmol/L]'], \"green\")\n",
    "p3, = twin2.plot(a['Time [hr]'],a['Lactate [mmol/L]'], \"blue\")\n",
    "p4, = twin3.plot(a['Time [hr]'],a['pCO2 [mbar]'], \"red\")\n",
    "\n",
    "ax.set_xlim(0, 48)\n",
    "ax.set_ylim(0, 7)\n",
    "twin1.set_ylim(0, 5)\n",
    "twin2.set_ylim(1, 50)\n",
    "twin3.set_ylim(0, 100)\n",
    "\n",
    "\n",
    "ax.set_xlabel(\"Time [hrs]\")\n",
    "ax.set_ylabel(\"Cell Density [wet g/L]\")\n",
    "twin1.set_ylabel(\"Ammonia [mmol/L]\")\n",
    "twin2.set_ylabel(\"Lactate [mmol/L]\")\n",
    "twin3.set_ylabel(\"pCO2 [mbar]\")\n",
    "\n",
    "\n",
    "ax.yaxis.label.set_color(p1.get_color())\n",
    "twin1.yaxis.label.set_color(p2.get_color())\n",
    "twin2.yaxis.label.set_color(p3.get_color())\n",
    "twin3.yaxis.label.set_color(p4.get_color())\n",
    "\n",
    "\n",
    "tkw = dict(size=4, width=1.5)\n",
    "ax.tick_params(axis='y', colors=p1.get_color(), **tkw)\n",
    "twin1.tick_params(axis='y', colors=p2.get_color(), **tkw)\n",
    "twin2.tick_params(axis='y', colors=p3.get_color(), **tkw)\n",
    "twin3.tick_params(axis='y', colors=p4.get_color(), **tkw)\n",
    "\n",
    "ax.tick_params(axis='x', **tkw)\n",
    "\n",
    "#ax.legend(handles=[p1, p2, p3])\n",
    "\n",
    "plt.show()"
   ]
  },
  {
   "cell_type": "markdown",
   "id": "982a9210-4003-4ea8-b544-47fa5ba6d95b",
   "metadata": {},
   "source": [
    "------------------------------"
   ]
  },
  {
   "cell_type": "code",
   "execution_count": null,
   "id": "21893ac9",
   "metadata": {},
   "outputs": [],
   "source": []
  },
  {
   "cell_type": "code",
   "execution_count": null,
   "id": "44b22ed5",
   "metadata": {},
   "outputs": [],
   "source": []
  },
  {
   "cell_type": "code",
   "execution_count": null,
   "id": "69faf49a",
   "metadata": {},
   "outputs": [],
   "source": []
  }
 ],
 "metadata": {
  "kernelspec": {
   "display_name": "PyCharm (katha)",
   "language": "python",
   "name": "pycharm-579aa1f0"
  },
  "language_info": {
   "codemirror_mode": {
    "name": "ipython",
    "version": 3
   },
   "file_extension": ".py",
   "mimetype": "text/x-python",
   "name": "python",
   "nbconvert_exporter": "python",
   "pygments_lexer": "ipython3",
   "version": "3.9.7"
  }
 },
 "nbformat": 4,
 "nbformat_minor": 5
}