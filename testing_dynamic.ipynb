{
 "cells": [
  {
   "cell_type": "code",
   "execution_count": 1,
   "id": "2a08e3de-81d6-4c63-88be-fd11a8d3a9d4",
   "metadata": {},
   "outputs": [],
   "source": [
    "import biota.dynamicFluxes as dyn\n",
    "import math"
   ]
  },
  {
   "cell_type": "code",
   "execution_count": 2,
   "id": "9e4b3bf7-c6b1-43b0-ad49-6a1232586041",
   "metadata": {},
   "outputs": [],
   "source": [
    "workingVolume = 20000\n",
    "tankDiameter = 2.34\n",
    "impellerDiameter = tankDiameter/3\n",
    "rpm = 42.3\n",
    "backPressure = 1.3\n",
    "superficialVel = 0.004\n",
    "moleFracO2 = 0.21\n",
    "initVol = 0.76 * workingVolume\n",
    "initCells = 0.6e6\n",
    "temp = 310\n",
    "powerNumber = 5\n",
    "mediumDensity = 1000\n",
    "mediumViscosity = 9e-4\n",
    "vesselVolDay = 0.0\n",
    "perfLactateRate = 5.0\n",
    "perfAmmrate = 5.0\n",
    "initialBubbleDiameter = 0.002\n",
    "\n",
    "STR_test = dyn.Bioreactor(wv=workingVolume,t=tankDiameter,d=impellerDiameter,n=rpm,p_back=backPressure,u_s=superficialVel,mf_O2_gas=moleFracO2,v0=initVol,ns=initCells,Temp=temp,\n",
    "                                     Np=powerNumber,rho=mediumDensity,mu=mediumViscosity,vvd=vesselVolDay,perfAMM=perfAmmrate,perfLAC=perfLactateRate,initialBubbleDiam=initialBubbleDiameter)"
   ]
  },
  {
   "cell_type": "code",
   "execution_count": 3,
   "id": "33d8ad4b-681f-4726-9fdd-bdc4d778ec4f",
   "metadata": {},
   "outputs": [],
   "source": [
    "growthRate = 0.029\n",
    "\n",
    "glutamineUptakeRate = 0\n",
    "glucoseUptakeRate = 0\n",
    "oxygenUptakeRate = 0.45\n",
    "uptakeList = [glutamineUptakeRate, glucoseUptakeRate, oxygenUptakeRate]\n",
    "\n",
    "carbonDioxideProdRate = 0.57\n",
    "ammoniaProductionRate = 0.092\n",
    "lactateProductionRate = 0.624\n",
    "prodList = [carbonDioxideProdRate, ammoniaProductionRate, lactateProductionRate]\n",
    "\n",
    "massDensity = 1030\n",
    "cellRadius = 18e-6\n",
    "wetmass = 3000\n",
    "dryMassFraction = 0.3\n",
    "\n",
    "ammoniaLimit = 5\n",
    "lactateLimit = 50\n",
    "CO2Limit = 100\n",
    "turbLengthLimit = 20e-6\n",
    "limitsList = [ammoniaLimit, lactateLimit, CO2Limit, turbLengthLimit]\n",
    "\n",
    "gemsModel = 'GEMS/iCHO_K1par-8mMAP.xml'\n",
    "\n",
    "cell_Test = dyn.Cell(mu=growthRate,uptakes=uptakeList,prod=prodList,rho=massDensity,rad=cellRadius,wetmass=wetmass,dmf=dryMassFraction,limits=limitsList,gemsModel=gemsModel)"
   ]
  },
  {
   "cell_type": "code",
   "execution_count": 4,
   "id": "4a2c9ecc",
   "metadata": {},
   "outputs": [],
   "source": [
    "def kLaModel(rpm, gasv, power, vol, density, visc, totalA):\n",
    "    eps = power/vol/density\n",
    "    kinvisc = visc/density\n",
    "    massDiff = 3.4e-9\n",
    "    kl = 0.3*(massDiff/kinvisc)**0.5*(eps*kinvisc)**0.25\n",
    "    return kl*totalA/vol\n",
    "\n",
    "def ghuModel(rpm,gasv,vol):\n",
    "    ghu=0.05 #func of rpm usually\n",
    "    bubbleDiam = 0.005\n",
    "    nBubbles = ghu*vol\n",
    "    bubbleArea = 4*math.pi*(bubbleDiam/2)**2\n",
    "    return nBubbles * bubbleArea"
   ]
  },
  {
   "cell_type": "code",
   "execution_count": 5,
   "id": "36a37322-c1dc-4be4-a452-eeb064ef1b61",
   "metadata": {},
   "outputs": [
    {
     "name": "stdout",
     "output_type": "stream",
     "text": [
      "Feasibility:   -1000000.0\n",
      "1800.0\n",
      "1800\n",
      "Feasibility:   -1000000.0\n",
      "3600.0\n",
      "0\n",
      "Feasibility:   -1000000.0\n",
      "5400.0\n",
      "1800\n",
      "Feasibility:   -1000000.0\n",
      "7200.0\n",
      "0\n",
      "Feasibility:   -1000000.0\n",
      "9000.0\n",
      "1800\n",
      "Feasibility:   -1000000.0\n",
      "10800.0\n",
      "0\n",
      "Feasibility:   -1000000.0\n",
      "12600.0\n",
      "1800\n",
      "Feasibility:   -1000000.0\n",
      "14400.0\n",
      "0\n",
      "Feasibility:   -1000000.0\n",
      "16200.0\n",
      "1800\n",
      "Feasibility:   -1000000.0\n",
      "18000.0\n",
      "0\n",
      "Feasibility:   -1000000.0\n",
      "19800.0\n",
      "1800\n",
      "Feasibility:   -1000000.0\n",
      "21600.0\n",
      "0\n",
      "Feasibility:   -1000000.0\n",
      "23400.0\n",
      "1800\n",
      "Feasibility:   -1000000.0\n",
      "25200.0\n",
      "0\n",
      "Feasibility:   -1000000.0\n",
      "27000.0\n",
      "1800\n",
      "Feasibility:   -1000000.0\n",
      "28800.0\n",
      "0\n",
      "Feasibility:   -1000000.0\n",
      "30600.0\n",
      "1800\n",
      "Feasibility:   -1000000.0\n",
      "32400.0\n",
      "0\n",
      "Feasibility:   -1000000.0\n",
      "34200.0\n",
      "1800\n",
      "Feasibility:   -1000000.0\n",
      "36000.0\n",
      "0\n"
     ]
    }
   ],
   "source": [
    "data = dyn.unsteadyPerf(STR_test,cell_Test,10,0.5,1,kLaFunc=kLaModel,ghuFunc=ghuModel)"
   ]
  },
  {
   "cell_type": "code",
   "execution_count": 6,
   "id": "1bc5aefb",
   "metadata": {},
   "outputs": [
    {
     "data": {
      "text/html": [
       "<div>\n",
       "<style scoped>\n",
       "    .dataframe tbody tr th:only-of-type {\n",
       "        vertical-align: middle;\n",
       "    }\n",
       "\n",
       "    .dataframe tbody tr th {\n",
       "        vertical-align: top;\n",
       "    }\n",
       "\n",
       "    .dataframe thead th {\n",
       "        text-align: right;\n",
       "    }\n",
       "</style>\n",
       "<table border=\"1\" class=\"dataframe\">\n",
       "  <thead>\n",
       "    <tr style=\"text-align: right;\">\n",
       "      <th></th>\n",
       "      <th>Time [hr]</th>\n",
       "      <th>Ncells</th>\n",
       "      <th>C_O2</th>\n",
       "      <th>C_amm</th>\n",
       "    </tr>\n",
       "  </thead>\n",
       "  <tbody>\n",
       "    <tr>\n",
       "      <th>0</th>\n",
       "      <td>0.0</td>\n",
       "      <td>9.120000e+12</td>\n",
       "      <td>0.299200</td>\n",
       "      <td>0.000000</td>\n",
       "    </tr>\n",
       "    <tr>\n",
       "      <th>0</th>\n",
       "      <td>1.0</td>\n",
       "      <td>9.510768e+12</td>\n",
       "      <td>0.259649</td>\n",
       "      <td>0.094705</td>\n",
       "    </tr>\n",
       "    <tr>\n",
       "      <th>0</th>\n",
       "      <td>2.0</td>\n",
       "      <td>9.918280e+12</td>\n",
       "      <td>0.218403</td>\n",
       "      <td>0.193467</td>\n",
       "    </tr>\n",
       "    <tr>\n",
       "      <th>0</th>\n",
       "      <td>3.0</td>\n",
       "      <td>1.034325e+13</td>\n",
       "      <td>0.175390</td>\n",
       "      <td>0.296461</td>\n",
       "    </tr>\n",
       "    <tr>\n",
       "      <th>0</th>\n",
       "      <td>4.0</td>\n",
       "      <td>1.078643e+13</td>\n",
       "      <td>0.130534</td>\n",
       "      <td>0.403868</td>\n",
       "    </tr>\n",
       "    <tr>\n",
       "      <th>0</th>\n",
       "      <td>5.0</td>\n",
       "      <td>1.124861e+13</td>\n",
       "      <td>0.083756</td>\n",
       "      <td>0.515878</td>\n",
       "    </tr>\n",
       "    <tr>\n",
       "      <th>0</th>\n",
       "      <td>6.0</td>\n",
       "      <td>1.173058e+13</td>\n",
       "      <td>0.034973</td>\n",
       "      <td>0.632686</td>\n",
       "    </tr>\n",
       "    <tr>\n",
       "      <th>0</th>\n",
       "      <td>7.0</td>\n",
       "      <td>1.223320e+13</td>\n",
       "      <td>-0.015899</td>\n",
       "      <td>0.754500</td>\n",
       "    </tr>\n",
       "    <tr>\n",
       "      <th>0</th>\n",
       "      <td>8.0</td>\n",
       "      <td>1.275737e+13</td>\n",
       "      <td>-0.068952</td>\n",
       "      <td>0.881533</td>\n",
       "    </tr>\n",
       "    <tr>\n",
       "      <th>0</th>\n",
       "      <td>9.0</td>\n",
       "      <td>1.330399e+13</td>\n",
       "      <td>-0.124277</td>\n",
       "      <td>1.014009</td>\n",
       "    </tr>\n",
       "    <tr>\n",
       "      <th>0</th>\n",
       "      <td>10.0</td>\n",
       "      <td>1.387403e+13</td>\n",
       "      <td>-0.181973</td>\n",
       "      <td>1.152161</td>\n",
       "    </tr>\n",
       "  </tbody>\n",
       "</table>\n",
       "</div>"
      ],
      "text/plain": [
       "   Time [hr]        Ncells      C_O2     C_amm\n",
       "0        0.0  9.120000e+12  0.299200  0.000000\n",
       "0        1.0  9.510768e+12  0.259649  0.094705\n",
       "0        2.0  9.918280e+12  0.218403  0.193467\n",
       "0        3.0  1.034325e+13  0.175390  0.296461\n",
       "0        4.0  1.078643e+13  0.130534  0.403868\n",
       "0        5.0  1.124861e+13  0.083756  0.515878\n",
       "0        6.0  1.173058e+13  0.034973  0.632686\n",
       "0        7.0  1.223320e+13 -0.015899  0.754500\n",
       "0        8.0  1.275737e+13 -0.068952  0.881533\n",
       "0        9.0  1.330399e+13 -0.124277  1.014009\n",
       "0       10.0  1.387403e+13 -0.181973  1.152161"
      ]
     },
     "execution_count": 6,
     "metadata": {},
     "output_type": "execute_result"
    }
   ],
   "source": [
    "data"
   ]
  },
  {
   "cell_type": "code",
   "execution_count": 7,
   "id": "43508af8",
   "metadata": {},
   "outputs": [
    {
     "data": {
      "text/plain": [
       "<AxesSubplot:xlabel='Time [hr]'>"
      ]
     },
     "execution_count": 7,
     "metadata": {},
     "output_type": "execute_result"
    },
    {
     "data": {
      "image/png": "[encoded data removed]",
      "text/plain": [
       "<Figure size 640x480 with 1 Axes>"
      ]
     },
     "metadata": {},
     "output_type": "display_data"
    }
   ],
   "source": [
    "data.plot(x='Time [hr]', y='C_amm')"
   ]
  },
  {
   "cell_type": "code",
   "execution_count": 8,
   "id": "aeed2151",
   "metadata": {},
   "outputs": [
    {
     "data": {
      "text/plain": [
       "36.0"
      ]
     },
     "execution_count": 8,
     "metadata": {},
     "output_type": "execute_result"
    }
   ],
   "source": [
    "0.01*3600"
   ]
  },
  {
   "cell_type": "code",
   "execution_count": null,
   "id": "4c09babf",
   "metadata": {},
   "outputs": [],
   "source": []
  }
 ],
 "metadata": {
  "kernelspec": {
   "name": "pycharm-579aa1f0",
   "language": "python",
   "display_name": "PyCharm (katha)"
  },
  "language_info": {
   "codemirror_mode": {
    "name": "ipython",
    "version": 3
   },
   "file_extension": ".py",
   "mimetype": "text/x-python",
   "name": "python",
   "nbconvert_exporter": "python",
   "pygments_lexer": "ipython3",
   "version": "3.9.15"
  }
 },
 "nbformat": 4,
 "nbformat_minor": 5
}