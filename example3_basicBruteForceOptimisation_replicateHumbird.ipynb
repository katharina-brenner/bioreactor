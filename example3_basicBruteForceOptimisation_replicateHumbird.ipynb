{
 "cells": [
  {
   "cell_type": "markdown",
   "id": "d727693c-1a28-4107-ab13-871a6d50b8ce",
   "metadata": {},
   "source": [
    "Modules"
   ]
  },
  {
   "cell_type": "code",
   "execution_count": null,
   "id": "9ee2ed37-e6d6-4b58-990f-01645af65828",
   "metadata": {
    "pycharm": {
     "is_executing": true
    }
   },
   "outputs": [],
   "source": [
    "import math\n",
    "import numpy as np\n",
    "import biota.steadyfluxes as steady\n",
    "import matplotlib.pyplot as plt"
   ]
  },
  {
   "cell_type": "markdown",
   "id": "8529585e",
   "metadata": {},
   "source": [
    "--------------------------------------------------------------------------------------------------------------------------------------------------------------------------------------"
   ]
  },
  {
   "cell_type": "markdown",
   "id": "798a262c",
   "metadata": {},
   "source": [
    "Specify cell parameters and create instance of cell class from them. Values are derived from the un-enhanced CHO model of Humbird https://doi.org/10.31224/osf.io/795su for the two doublings production scenario."
   ]
  },
  {
   "cell_type": "code",
   "execution_count": null,
   "id": "88c3c838",
   "metadata": {
    "pycharm": {
     "is_executing": true
    }
   },
   "outputs": [],
   "source": [
    "growthRate = 0.029\n",
    "\n",
    "glutamineUptakeRate = 0\n",
    "glucoseUptakeRate = 0\n",
    "\n",
    "#select desired O2 uptake rate\n",
    "#oxygenUptakeRate = 0.48963 \n",
    "oxygenUptakeRate = 0.49738\n",
    "\n",
    "uptakeList = [glutamineUptakeRate, glucoseUptakeRate, oxygenUptakeRate]\n",
    "\n",
    "#select desired CO2, ammonia, lactate production rates\n",
    "carbonDioxideProdRate = 0.598906\n",
    "#carbonDioxideProdRate = 0.593197\n",
    "\n",
    "#ammoniaProductionRate = 0.013571 \n",
    "ammoniaProductionRate = 0.005392\n",
    "\n",
    "#lactateProductionRate = 0.135707 \n",
    "lactateProductionRate = 0.053917\n",
    "\n",
    "prodList = [carbonDioxideProdRate, ammoniaProductionRate, lactateProductionRate]\n",
    "\n",
    "massDensity = 1030\n",
    "cellRadius = 18e-6\n",
    "wetmass = 3000\n",
    "dryMassFraction = 0.3\n",
    "\n",
    "ammoniaLimit = 5\n",
    "lactateLimit = 50\n",
    "CO2Limit = 100\n",
    "turbLengthLimit = 20e-6\n",
    "limitsList = [ammoniaLimit, lactateLimit, CO2Limit, turbLengthLimit]\n",
    "\n",
    "\n",
    "cell_Humbird = steady.Cell(mu=growthRate,uptakes=uptakeList,prod=prodList,rho=massDensity,rad=cellRadius,wetmass=wetmass,dmf=dryMassFraction,limits=limitsList)"
   ]
  },
  {
   "cell_type": "markdown",
   "id": "70e0667f-e6cf-4901-8fd2-b37d2dcdff03",
   "metadata": {},
   "source": [
    "---------------------------------------------"
   ]
  },
  {
   "cell_type": "markdown",
   "id": "f0d0bec4-f996-46ed-ae23-5c64066fa9b4",
   "metadata": {},
   "source": [
    "Specify bioreactor parameters and then loop over a volume range to generate oxygen, carbon dioxide and mixing yield limits as in Humbird https://doi.org/10.31224/osf.io/795su."
   ]
  },
  {
   "cell_type": "code",
   "execution_count": null,
   "id": "c0560668-2d1c-456c-b0de-cb0f0ee28df7",
   "metadata": {
    "pycharm": {
     "is_executing": true
    }
   },
   "outputs": [],
   "source": [
    "count = 100 \n",
    "cell = cell_Humbird\n",
    "doublings = 5\n",
    "rpmlims = (10,100)\n",
    "supervellims = (0.0001,0.006)\n",
    "celldenslims = (5.9e5,6.1e5)\n",
    "showGraphs = False\n",
    "\n",
    "\n",
    "rpm = 42.3\n",
    "backPressure = 1.33\n",
    "superficialVel = 0.004\n",
    "\n",
    "#select inlet gas oxygen concentration\n",
    "#moleFracO2 = 0.21\n",
    "moleFracO2 = 0.9\n",
    "\n",
    "moleFracCO2 = 0.03\n",
    "\n",
    "initCells =4e6\n",
    "temp = 310\n",
    "powerNumber = 5\n",
    "mediumDensity = 1000\n",
    "mediumViscosity = 8e-4\n",
    "vesselVolDay = 0.0\n",
    "perfLactateRate = 5.0\n",
    "perfAmmrate = 5.0\n",
    "\n",
    "vols = np.logspace(0,2.3,base=10,num=20)\n",
    "O2 = np.zeros((vols.shape[0]))\n",
    "CO2 = np.zeros((vols.shape[0]))\n",
    "Mixing = np.zeros((vols.shape[0]))\n",
    "NH3 = np.zeros((vols.shape[0]))\n",
    "\n",
    "for c,i in enumerate(vols):\n",
    "    workingVolume = i*1000\n",
    "    initVol = 0.8 * workingVolume\n",
    "    tankDiameter = (i*4/math.pi/2)**(1/3)\n",
    "    impellerDiameter = tankDiameter/3\n",
    "    reactor = steady.Bioreactor(wv=workingVolume,t=tankDiameter,d=impellerDiameter,n=rpm,p_back=backPressure,u_s=superficialVel,mf_O2_gas=moleFracO2,mf_CO2_gas=moleFracCO2,v0=initVol,ns=initCells,Temp=temp,\n",
    "                                     Np=powerNumber,rho=mediumDensity,mu=mediumViscosity,vvd=vesselVolDay,perfAMM=perfAmmrate,perfLAC=perfLactateRate)\n",
    "\n",
    "    a = steady.brute(count=count,b=reactor,c=cell,dbls=doublings,rpmlims=rpmlims,uslims=supervellims,nslims=celldenslims,graphs=showGraphs)\n",
    "    O2[c] = a.iloc[4][1]\n",
    "    CO2[c] = a.iloc[3][1]\n",
    "    NH3[c] = a.iloc[1][1]\n",
    "    Mixing[c] = a.iloc[5][1]"
   ]
  },
  {
   "cell_type": "markdown",
   "id": "bc0d9340",
   "metadata": {},
   "source": [
    "---------------------------------------------------------------------------------------------------------------------------------------------------------------"
   ]
  },
  {
   "cell_type": "markdown",
   "id": "97979cc4",
   "metadata": {},
   "source": [
    "Save previous oxygen and mixing performance to compare effects of using one or two impellers in the evaluation of maximum eddy dissipation rate"
   ]
  },
  {
   "cell_type": "code",
   "execution_count": null,
   "id": "221c8838",
   "metadata": {
    "pycharm": {
     "is_executing": true
    }
   },
   "outputs": [],
   "source": [
    "#np.save('o2.npy',O2)\n",
    "#np.save('mixing2.npy',Mixing)\n",
    "\n",
    "#O2_2 = np.load('o2.npy')\n",
    "#Mixing_2 = np.load('mixing2.npy')\n"
   ]
  },
  {
   "cell_type": "markdown",
   "id": "cc7b46ec",
   "metadata": {},
   "source": [
    "-----------------------------------------"
   ]
  },
  {
   "cell_type": "code",
   "execution_count": null,
   "id": "6f5dbc94-2ade-4e66-87c3-330f6bd0409c",
   "metadata": {
    "pycharm": {
     "is_executing": true
    }
   },
   "outputs": [],
   "source": [
    "plt.figure(figsize=(10,4))\n",
    "plt.plot(vols,O2,color='red',label=\"$O_2$ ($N_i=2$)\")\n",
    "#plt.plot(vols,O2_2,color='red',linestyle='dashed',label=\"$O_2$ ($N_i=1$)\")\n",
    "plt.plot(vols,CO2,color='blue',label=\"$CO_2$\")\n",
    "plt.plot(vols,Mixing,color='green',label=\"Mixing ($N_i=2$)\")\n",
    "#plt.plot(vols,Mixing_2,color='green',linestyle='dashed',label=\"Mixing ($N_i=1$)\")\n",
    "plt.plot(vols,NH3,color='black',label=r\"$NH_3$\")\n",
    "\n",
    "plt.legend()\n",
    "plt.xscale('log')\n",
    "plt.ylim((0,250))\n",
    "plt.xlim((1,200))\n",
    "plt.xlabel('Bioreactor Volume [$m^3$]')\n",
    "plt.ylabel('Max Supported Cell Density [g/L]')\n",
    "plt.grid()\n",
    "plt.show()\n",
    "\n"
   ]
  },
  {
   "cell_type": "markdown",
   "id": "20597f1c-1c07-4245-adfd-beea49260022",
   "metadata": {},
   "source": [
    "-------------------------------------------------"
   ]
  },
  {
   "cell_type": "code",
   "execution_count": null,
   "id": "3b78923a",
   "metadata": {
    "pycharm": {
     "is_executing": true
    }
   },
   "outputs": [],
   "source": []
  },
  {
   "cell_type": "code",
   "execution_count": null,
   "id": "22360906",
   "metadata": {
    "pycharm": {
     "is_executing": true
    }
   },
   "outputs": [],
   "source": []
  },
  {
   "cell_type": "code",
   "execution_count": null,
   "id": "7fdc6a7a",
   "metadata": {
    "pycharm": {
     "is_executing": true
    }
   },
   "outputs": [],
   "source": []
  },
  {
   "cell_type": "code",
   "execution_count": null,
   "id": "a00be439",
   "metadata": {
    "pycharm": {
     "is_executing": true
    }
   },
   "outputs": [],
   "source": []
  },
  {
   "cell_type": "code",
   "execution_count": null,
   "id": "d89b4ac0",
   "metadata": {
    "pycharm": {
     "is_executing": true
    }
   },
   "outputs": [],
   "source": []
  }
 ],
 "metadata": {
  "kernelspec": {
   "display_name": "PyCharm (katha)",
   "language": "python",
   "name": "pycharm-579aa1f0"
  },
  "language_info": {
   "codemirror_mode": {
    "name": "ipython",
    "version": 3
   },
   "file_extension": ".py",
   "mimetype": "text/x-python",
   "name": "python",
   "nbconvert_exporter": "python",
   "pygments_lexer": "ipython3",
   "version": "3.9.7"
  }
 },
 "nbformat": 4,
 "nbformat_minor": 5
}