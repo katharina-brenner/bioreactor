{
 "cells": [
  {
   "cell_type": "markdown",
   "id": "d727693c-1a28-4107-ab13-871a6d50b8ce",
   "metadata": {},
   "source": [
    "Modules"
   ]
  },
  {
   "cell_type": "code",
   "execution_count": 1,
   "id": "9ee2ed37-e6d6-4b58-990f-01645af65828",
   "metadata": {},
   "outputs": [],
   "source": [
    "import biota.steadyfluxes as steady\n",
    "import matplotlib.pyplot as plt"
   ]
  },
  {
   "cell_type": "markdown",
   "id": "70e0667f-e6cf-4901-8fd2-b37d2dcdff03",
   "metadata": {},
   "source": [
    "---------------------------------------------"
   ]
  },
  {
   "cell_type": "markdown",
   "id": "f0d0bec4-f996-46ed-ae23-5c64066fa9b4",
   "metadata": {},
   "source": [
    "Specify bioreactor parameters and construct bioreactor class instance from them.\n",
    "Values are derived from the 20,000 litre stirred aerated tank example case from Humbird https://doi.org/10.31224/osf.io/795su . Fed batch operation is considered here, no perfusion."
   ]
  },
  {
   "cell_type": "code",
   "execution_count": 2,
   "id": "c0560668-2d1c-456c-b0de-cb0f0ee28df7",
   "metadata": {},
   "outputs": [
    {
     "ename": "TypeError",
     "evalue": "__init__() missing 1 required positional argument: 'mf_CO2_gas'",
     "output_type": "error",
     "traceback": [
      "\u001B[1;31m---------------------------------------------------------------------------\u001B[0m",
      "\u001B[1;31mTypeError\u001B[0m                                 Traceback (most recent call last)",
      "\u001B[1;32m~\\AppData\\Local\\Temp/ipykernel_32696/1292521631.py\u001B[0m in \u001B[0;36m<module>\u001B[1;34m\u001B[0m\n\u001B[0;32m     16\u001B[0m \u001B[0mperfAmmrate\u001B[0m \u001B[1;33m=\u001B[0m \u001B[1;36m5.0\u001B[0m\u001B[1;33m\u001B[0m\u001B[1;33m\u001B[0m\u001B[0m\n\u001B[0;32m     17\u001B[0m \u001B[1;33m\u001B[0m\u001B[0m\n\u001B[1;32m---> 18\u001B[1;33m STR_Humbird_20kl = steady.Bioreactor(wv=workingVolume,t=tankDiameter,d=impellerDiameter,n=rpm,p_back=backPressure,u_s=superficialVel,mf_O2_gas=moleFracO2,v0=initVol,ns=initCells,Temp=temp,\n\u001B[0m\u001B[0;32m     19\u001B[0m                                      Np=powerNumber,rho=mediumDensity,mu=mediumViscosity,vvd=vesselVolDay,perfAMM=perfAmmrate,perfLAC=perfLactateRate)\n\u001B[0;32m     20\u001B[0m \u001B[1;33m\u001B[0m\u001B[0m\n",
      "\u001B[1;31mTypeError\u001B[0m: __init__() missing 1 required positional argument: 'mf_CO2_gas'"
     ]
    }
   ],
   "source": [
    "workingVolume = 20000\n",
    "tankDiameter = 2.34\n",
    "impellerDiameter = tankDiameter/3\n",
    "rpm = 42.3\n",
    "backPressure = 1.3\n",
    "superficialVel = 0.004\n",
    "moleFracO2 = 0.21\n",
    "initVol = 0.76 * workingVolume\n",
    "initCells = 0.6e6\n",
    "temp = 310 # in Kalvin\n",
    "powerNumber = 5\n",
    "mediumDensity = 1000\n",
    "mediumViscosity = 9e-4\n",
    "vesselVolDay = 0.0\n",
    "perfLactateRate = 5.0\n",
    "perfAmmrate = 5.0\n",
    "\n",
    "STR_Humbird_20kl = steady.Bioreactor(wv=workingVolume,t=tankDiameter,d=impellerDiameter,n=rpm,p_back=backPressure,u_s=superficialVel,mf_O2_gas=moleFracO2,v0=initVol,ns=initCells,Temp=temp,\n",
    "                                     Np=powerNumber,rho=mediumDensity,mu=mediumViscosity,vvd=vesselVolDay,perfAMM=perfAmmrate,perfLAC=perfLactateRate)\n"
   ]
  },
  {
   "cell_type": "markdown",
   "id": "49abc2c4-7363-4452-a2d9-5d817c1e750f",
   "metadata": {},
   "source": [
    "-----------------------------------------"
   ]
  },
  {
   "cell_type": "markdown",
   "id": "a2df1758-722e-441e-9d2a-f29db0980e09",
   "metadata": {},
   "source": [
    "Specify cell parameters and create instance of cell class from them. Values are derived from the un-enhanced CHO model of Humbird https://doi.org/10.31224/osf.io/795su for the two doublings production scenario."
   ]
  },
  {
   "cell_type": "code",
   "execution_count": null,
   "id": "6f5dbc94-2ade-4e66-87c3-330f6bd0409c",
   "metadata": {},
   "outputs": [],
   "source": [
    "growthRate = 0.029\n",
    "\n",
    "glutamineUptakeRate = 0\n",
    "glucoseUptakeRate = 0\n",
    "oxygenUptakeRate = 0.45\n",
    "uptakeList = [glutamineUptakeRate, glucoseUptakeRate, oxygenUptakeRate]\n",
    "\n",
    "carbonDioxideProdRate = 0.57\n",
    "ammoniaProductionRate = 0.092\n",
    "lactateProductionRate = 0.624\n",
    "prodList = [carbonDioxideProdRate, ammoniaProductionRate, lactateProductionRate]\n",
    "\n",
    "massDensity = 1030\n",
    "cellRadius = 18e-6\n",
    "wetmass = 3000\n",
    "dryMassFraction = 0.3\n",
    "\n",
    "ammoniaLimit = 5\n",
    "lactateLimit = 50\n",
    "CO2Limit = 100\n",
    "turbLengthLimit = 20e-6\n",
    "limitsList = [ammoniaLimit, lactateLimit, CO2Limit, turbLengthLimit]\n",
    "\n",
    "\n",
    "cell_Humbird = steady.Cell(mu=growthRate,uptakes=uptakeList,prod=prodList,rho=massDensity,rad=cellRadius,wetmass=wetmass,dmf=dryMassFraction,limits=limitsList)"
   ]
  },
  {
   "cell_type": "markdown",
   "id": "20597f1c-1c07-4245-adfd-beea49260022",
   "metadata": {},
   "source": [
    "-------------------------------------------------"
   ]
  },
  {
   "cell_type": "markdown",
   "id": "2ade997f-99fe-4932-bb52-bf9d901c8875",
   "metadata": {},
   "source": [
    "Execute production performance function "
   ]
  },
  {
   "cell_type": "code",
   "execution_count": null,
   "id": "b8553185-64aa-4bc4-9031-09613443d7c5",
   "metadata": {},
   "outputs": [],
   "source": [
    "def tauMModel():\n",
    "    return 3000\n",
    "\n",
    "(a,b,c) = steady.yieldModels(STR_Humbird_20kl,cell_Humbird,144,False,tauMModel,False)"
   ]
  },
  {
   "cell_type": "code",
   "execution_count": null,
   "id": "f612f17d",
   "metadata": {},
   "outputs": [],
   "source": [
    "monkey = 89.22\n",
    "if type(tauMModel) == float:\n",
    "    print(4)\n",
    "type(tauMModel)"
   ]
  },
  {
   "cell_type": "markdown",
   "id": "f9013e9d-2516-4da0-81a2-2bdc3d1febb6",
   "metadata": {},
   "source": [
    "Dataframe returned by production performance function"
   ]
  },
  {
   "cell_type": "code",
   "execution_count": null,
   "id": "d657011b-92ed-4e3b-a4d1-257308632267",
   "metadata": {},
   "outputs": [],
   "source": [
    "a"
   ]
  },
  {
   "cell_type": "markdown",
   "id": "b4a8bf53-c9bb-49e1-9814-9ca3f545f298",
   "metadata": {},
   "source": [
    "-------------------------------------------------"
   ]
  },
  {
   "cell_type": "markdown",
   "id": "d59385dd-64fb-49fa-8d4e-649dbabe25df",
   "metadata": {},
   "source": [
    "Look at constraints individually to see the limited duration and yield for each of them. Output is in the form:\n",
    "constraint (duration \\[hrs\\], yield \\[wet g/L\\])"
   ]
  },
  {
   "cell_type": "code",
   "execution_count": null,
   "id": "791679e1-d9e5-413c-af6b-358140be7610",
   "metadata": {},
   "outputs": [],
   "source": [
    "for i in range(0,len(c)):\n",
    "    print (b[i],c[i]) "
   ]
  },
  {
   "cell_type": "markdown",
   "id": "7b2c5d9b-bfe7-4bda-b442-27c6908daaab",
   "metadata": {},
   "source": [
    "--------------------------------------------------------"
   ]
  },
  {
   "cell_type": "markdown",
   "id": "f5ffc3fc-8b59-4349-bbb6-2cc7670378eb",
   "metadata": {},
   "source": [
    "Plot key constraints against time, in the same format as Figure 2.7 (page 27) of https://doi.org/10.31224/osf.io/795su <br>\n",
    "Code modified from https://matplotlib.org/3.4.3/gallery/ticks_and_spines/multiple_yaxis_with_spines.html"
   ]
  },
  {
   "cell_type": "code",
   "execution_count": null,
   "id": "6fb87d72-963d-4db9-8740-721d84d471c3",
   "metadata": {},
   "outputs": [],
   "source": [
    "fig, ax = plt.subplots(figsize=(10,4))\n",
    "fig.subplots_adjust(right=0.75)\n",
    "\n",
    "twin1 = ax.twinx()\n",
    "twin2 = ax.twinx()\n",
    "twin3 = ax.twinx()\n",
    "twin4 = ax.twinx()\n",
    "\n",
    "# Offset the right spine of twin2.  The ticks and label have already been\n",
    "# placed on the right by twinx above.\n",
    "twin2.spines.right.set_position((\"axes\", 1.1))\n",
    "twin3.spines.right.set_position((\"axes\", 1.2))\n",
    "twin4.spines.right.set_position((\"axes\", 1.3))\n",
    "\n",
    "p1, = ax.plot(a['Time [hr]'],a['Cell Density [wet g/L]'], \"black\")\n",
    "p2, = twin1.plot(a['Time [hr]'],a['Ammonia [mmol/L]'], \"green\")\n",
    "p3, = twin2.plot(a['Time [hr]'],a['Lactate [mmol/L]'], \"blue\")\n",
    "p4, = twin3.plot(a['Time [hr]'],a['pCO2 [mbar]'], \"red\")\n",
    "p5, = twin4.plot(a['Time [hr]'],a['Volume [L]']/workingVolume*100, \"lightblue\")\n",
    "\n",
    "ax.set_xlim(0, 48)\n",
    "ax.set_ylim(0, 7)\n",
    "twin1.set_ylim(0, 5)\n",
    "twin2.set_ylim(1, 50)\n",
    "twin3.set_ylim(0, 100)\n",
    "twin4.set_ylim(0, 100)\n",
    "\n",
    "ax.set_xlabel(\"Time [hrs]\")\n",
    "ax.set_ylabel(\"Cell Density [wet g/L]\")\n",
    "twin1.set_ylabel(\"Ammonia [mmol/L]\")\n",
    "twin2.set_ylabel(\"Lactate [mmol/L]\")\n",
    "twin3.set_ylabel(\"pCO2 [mbar]\")\n",
    "twin4.set_ylabel(\"Volume [%]\")\n",
    "\n",
    "ax.yaxis.label.set_color(p1.get_color())\n",
    "twin1.yaxis.label.set_color(p2.get_color())\n",
    "twin2.yaxis.label.set_color(p3.get_color())\n",
    "twin3.yaxis.label.set_color(p4.get_color())\n",
    "twin4.yaxis.label.set_color(p5.get_color())\n",
    "\n",
    "tkw = dict(size=4, width=1.5)\n",
    "ax.tick_params(axis='y', colors=p1.get_color(), **tkw)\n",
    "twin1.tick_params(axis='y', colors=p2.get_color(), **tkw)\n",
    "twin2.tick_params(axis='y', colors=p3.get_color(), **tkw)\n",
    "twin3.tick_params(axis='y', colors=p4.get_color(), **tkw)\n",
    "twin4.tick_params(axis='y', colors=p5.get_color(), **tkw)\n",
    "ax.tick_params(axis='x', **tkw)\n",
    "\n",
    "#ax.legend(handles=[p1, p2, p3])\n",
    "\n",
    "plt.show()"
   ]
  },
  {
   "cell_type": "markdown",
   "id": "982a9210-4003-4ea8-b544-47fa5ba6d95b",
   "metadata": {},
   "source": [
    "------------------------------"
   ]
  }
 ],
 "metadata": {
  "kernelspec": {
   "display_name": "Python 3 (ipykernel)",
   "language": "python",
   "name": "python3"
  },
  "language_info": {
   "codemirror_mode": {
    "name": "ipython",
    "version": 3
   },
   "file_extension": ".py",
   "mimetype": "text/x-python",
   "name": "python",
   "nbconvert_exporter": "python",
   "pygments_lexer": "ipython3",
   "version": "3.9.15"
  }
 },
 "nbformat": 4,
 "nbformat_minor": 5
}